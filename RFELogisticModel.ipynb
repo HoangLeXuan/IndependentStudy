{
 "cells": [
  {
   "cell_type": "code",
   "execution_count": 1,
   "metadata": {},
   "outputs": [
    {
     "data": {
      "text/html": [
       "<div>\n",
       "<style scoped>\n",
       "    .dataframe tbody tr th:only-of-type {\n",
       "        vertical-align: middle;\n",
       "    }\n",
       "\n",
       "    .dataframe tbody tr th {\n",
       "        vertical-align: top;\n",
       "    }\n",
       "\n",
       "    .dataframe thead th {\n",
       "        text-align: right;\n",
       "    }\n",
       "</style>\n",
       "<table border=\"1\" class=\"dataframe\">\n",
       "  <thead>\n",
       "    <tr style=\"text-align: right;\">\n",
       "      <th></th>\n",
       "      <th>AGE</th>\n",
       "      <th>GENDER</th>\n",
       "      <th>BTHUS</th>\n",
       "      <th>CTZDUAL</th>\n",
       "      <th>CTZUSIN</th>\n",
       "      <th>BSDGN</th>\n",
       "      <th>MRDGRUS</th>\n",
       "      <th>MARIND</th>\n",
       "      <th>LFSTAT</th>\n",
       "      <th>EDDAD_1</th>\n",
       "      <th>...</th>\n",
       "      <th>FACSAL_1</th>\n",
       "      <th>FACSAL_2</th>\n",
       "      <th>FACSAL_3</th>\n",
       "      <th>FACSAL_4</th>\n",
       "      <th>FACSAL_L</th>\n",
       "      <th>FACSEC_1</th>\n",
       "      <th>FACSEC_2</th>\n",
       "      <th>FACSEC_3</th>\n",
       "      <th>FACSEC_4</th>\n",
       "      <th>FACSEC_L</th>\n",
       "    </tr>\n",
       "  </thead>\n",
       "  <tbody>\n",
       "    <tr>\n",
       "      <th>0</th>\n",
       "      <td>40.0</td>\n",
       "      <td>False</td>\n",
       "      <td>True</td>\n",
       "      <td>False</td>\n",
       "      <td>True</td>\n",
       "      <td>3.0</td>\n",
       "      <td>True</td>\n",
       "      <td>True</td>\n",
       "      <td>True</td>\n",
       "      <td>0</td>\n",
       "      <td>...</td>\n",
       "      <td>1</td>\n",
       "      <td>0</td>\n",
       "      <td>0</td>\n",
       "      <td>0</td>\n",
       "      <td>0</td>\n",
       "      <td>1</td>\n",
       "      <td>0</td>\n",
       "      <td>0</td>\n",
       "      <td>0</td>\n",
       "      <td>0</td>\n",
       "    </tr>\n",
       "    <tr>\n",
       "      <th>1</th>\n",
       "      <td>40.0</td>\n",
       "      <td>True</td>\n",
       "      <td>True</td>\n",
       "      <td>False</td>\n",
       "      <td>True</td>\n",
       "      <td>2.0</td>\n",
       "      <td>True</td>\n",
       "      <td>True</td>\n",
       "      <td>True</td>\n",
       "      <td>0</td>\n",
       "      <td>...</td>\n",
       "      <td>1</td>\n",
       "      <td>0</td>\n",
       "      <td>0</td>\n",
       "      <td>0</td>\n",
       "      <td>0</td>\n",
       "      <td>1</td>\n",
       "      <td>0</td>\n",
       "      <td>0</td>\n",
       "      <td>0</td>\n",
       "      <td>0</td>\n",
       "    </tr>\n",
       "    <tr>\n",
       "      <th>2</th>\n",
       "      <td>34.0</td>\n",
       "      <td>True</td>\n",
       "      <td>True</td>\n",
       "      <td>False</td>\n",
       "      <td>True</td>\n",
       "      <td>2.0</td>\n",
       "      <td>True</td>\n",
       "      <td>True</td>\n",
       "      <td>True</td>\n",
       "      <td>0</td>\n",
       "      <td>...</td>\n",
       "      <td>1</td>\n",
       "      <td>0</td>\n",
       "      <td>0</td>\n",
       "      <td>0</td>\n",
       "      <td>0</td>\n",
       "      <td>1</td>\n",
       "      <td>0</td>\n",
       "      <td>0</td>\n",
       "      <td>0</td>\n",
       "      <td>0</td>\n",
       "    </tr>\n",
       "    <tr>\n",
       "      <th>3</th>\n",
       "      <td>46.0</td>\n",
       "      <td>False</td>\n",
       "      <td>True</td>\n",
       "      <td>False</td>\n",
       "      <td>True</td>\n",
       "      <td>1.0</td>\n",
       "      <td>True</td>\n",
       "      <td>False</td>\n",
       "      <td>True</td>\n",
       "      <td>0</td>\n",
       "      <td>...</td>\n",
       "      <td>0</td>\n",
       "      <td>1</td>\n",
       "      <td>0</td>\n",
       "      <td>0</td>\n",
       "      <td>0</td>\n",
       "      <td>0</td>\n",
       "      <td>1</td>\n",
       "      <td>0</td>\n",
       "      <td>0</td>\n",
       "      <td>0</td>\n",
       "    </tr>\n",
       "    <tr>\n",
       "      <th>4</th>\n",
       "      <td>32.0</td>\n",
       "      <td>True</td>\n",
       "      <td>True</td>\n",
       "      <td>False</td>\n",
       "      <td>True</td>\n",
       "      <td>2.0</td>\n",
       "      <td>True</td>\n",
       "      <td>True</td>\n",
       "      <td>True</td>\n",
       "      <td>0</td>\n",
       "      <td>...</td>\n",
       "      <td>0</td>\n",
       "      <td>1</td>\n",
       "      <td>0</td>\n",
       "      <td>0</td>\n",
       "      <td>0</td>\n",
       "      <td>0</td>\n",
       "      <td>1</td>\n",
       "      <td>0</td>\n",
       "      <td>0</td>\n",
       "      <td>0</td>\n",
       "    </tr>\n",
       "  </tbody>\n",
       "</table>\n",
       "<p>5 rows × 96 columns</p>\n",
       "</div>"
      ],
      "text/plain": [
       "    AGE  GENDER  BTHUS  CTZDUAL  CTZUSIN  BSDGN  MRDGRUS  MARIND  LFSTAT  \\\n",
       "0  40.0   False   True    False     True    3.0     True    True    True   \n",
       "1  40.0    True   True    False     True    2.0     True    True    True   \n",
       "2  34.0    True   True    False     True    2.0     True    True    True   \n",
       "3  46.0   False   True    False     True    1.0     True   False    True   \n",
       "4  32.0    True   True    False     True    2.0     True    True    True   \n",
       "\n",
       "   EDDAD_1  ...  FACSAL_1  FACSAL_2  FACSAL_3  FACSAL_4  FACSAL_L  FACSEC_1  \\\n",
       "0        0  ...         1         0         0         0         0         1   \n",
       "1        0  ...         1         0         0         0         0         1   \n",
       "2        0  ...         1         0         0         0         0         1   \n",
       "3        0  ...         0         1         0         0         0         0   \n",
       "4        0  ...         0         1         0         0         0         0   \n",
       "\n",
       "   FACSEC_2  FACSEC_3  FACSEC_4  FACSEC_L  \n",
       "0         0         0         0         0  \n",
       "1         0         0         0         0  \n",
       "2         0         0         0         0  \n",
       "3         1         0         0         0  \n",
       "4         1         0         0         0  \n",
       "\n",
       "[5 rows x 96 columns]"
      ]
     },
     "execution_count": 1,
     "metadata": {},
     "output_type": "execute_result"
    }
   ],
   "source": [
    "import pandas as pd\n",
    "import numpy as np\n",
    "\n",
    "file_path = \"./Data.csv\"\n",
    "\n",
    "data = []\n",
    "data = pd.read_csv(file_path) # Reading Initial Data\n",
    "data.head()"
   ]
  },
  {
   "cell_type": "code",
   "execution_count": 2,
   "metadata": {},
   "outputs": [],
   "source": [
    "import pandas as pd\n",
    "from sklearn.model_selection import train_test_split\n",
    "from sklearn.feature_selection import RFECV\n",
    "from sklearn.linear_model import LogisticRegression\n",
    "from sklearn.metrics import accuracy_score\n"
   ]
  },
  {
   "cell_type": "code",
   "execution_count": 4,
   "metadata": {},
   "outputs": [],
   "source": [
    "X = data.drop('LFSTAT', axis=1)  # predictor variables\n",
    "y = data['LFSTAT']  # target variable"
   ]
  },
  {
   "cell_type": "code",
   "execution_count": 5,
   "metadata": {},
   "outputs": [],
   "source": [
    "X_train, X_test, y_train, y_test = train_test_split(X, y, test_size=0.2, random_state=42)"
   ]
  },
  {
   "cell_type": "code",
   "execution_count": 9,
   "metadata": {},
   "outputs": [],
   "source": [
    "classifier = LogisticRegression(max_iter=1000)  # Increase the max_iter parameter"
   ]
  },
  {
   "cell_type": "code",
   "execution_count": 10,
   "metadata": {},
   "outputs": [],
   "source": [
    "rfe = RFECV(estimator=classifier, step=1, cv=5, scoring='accuracy')"
   ]
  },
  {
   "cell_type": "code",
   "execution_count": 11,
   "metadata": {},
   "outputs": [
    {
     "data": {
      "text/plain": [
       "RFECV(cv=5, estimator=LogisticRegression(max_iter=1000), scoring='accuracy')"
      ]
     },
     "execution_count": 11,
     "metadata": {},
     "output_type": "execute_result"
    }
   ],
   "source": [
    "rfe.fit(X_train, y_train)"
   ]
  },
  {
   "cell_type": "code",
   "execution_count": 12,
   "metadata": {},
   "outputs": [],
   "source": [
    "selected_features = X.columns[rfe.support_]"
   ]
  },
  {
   "cell_type": "code",
   "execution_count": 13,
   "metadata": {},
   "outputs": [],
   "source": [
    "y_pred = rfe.predict(X_test)"
   ]
  },
  {
   "cell_type": "code",
   "execution_count": 14,
   "metadata": {},
   "outputs": [
    {
     "name": "stdout",
     "output_type": "stream",
     "text": [
      "Model accuracy: 0.9603196026561572\n",
      "Optimal number of features : 92\n",
      "Best features : Index(['AGE', 'GENDER', 'BTHUS', 'CTZDUAL', 'CTZUSIN', 'BSDGN', 'MRDGRUS',\n",
      "       'MARIND', 'EDDAD_1', 'EDDAD_2', 'EDDAD_3', 'EDDAD_4', 'EDDAD_5',\n",
      "       'EDDAD_7', 'EDDAD_8', 'EDMOM_1', 'EDMOM_2', 'EDMOM_3', 'EDMOM_4',\n",
      "       'EDMOM_6', 'EDMOM_7', 'EDMOM_8', 'VETSTAT_0', 'VETSTAT_1', 'VETSTAT_2',\n",
      "       'VETSTAT_3', 'RACEM_1', 'RACEM_2', 'RACEM_3', 'RACEM_4', 'RACEM_5',\n",
      "       'RACEM_6', 'BACARN_0', 'BACARN_11', 'BACARN_12', 'BACARN_13',\n",
      "       'BACARN_14', 'BACARN_22', 'BACARN_31', 'BACARN_32', 'BACARN_40',\n",
      "       'BACARN_51', 'BACARN_52', 'BACARN_53', 'BACARN_54', 'BACARN_56',\n",
      "       'BACARN_59', 'BACARN_60', 'DGRDG_1', 'DGRDG_2', 'DGRDG_3', 'DGRDG_4',\n",
      "       'FACADV_1', 'FACADV_2', 'FACADV_3', 'FACADV_4', 'FACADV_L', 'FACBEN_1',\n",
      "       'FACBEN_2', 'FACBEN_3', 'FACBEN_4', 'FACBEN_L', 'FACCHAL_1',\n",
      "       'FACCHAL_2', 'FACCHAL_3', 'FACCHAL_4', 'FACCHAL_L', 'FACIND_1',\n",
      "       'FACIND_2', 'FACIND_3', 'FACIND_4', 'FACIND_L', 'FACLOC_1', 'FACLOC_2',\n",
      "       'FACLOC_3', 'FACLOC_4', 'FACLOC_L', 'FACRESP_1', 'FACRESP_2',\n",
      "       'FACRESP_3', 'FACRESP_4', 'FACRESP_L', 'FACSAL_1', 'FACSAL_2',\n",
      "       'FACSAL_3', 'FACSAL_4', 'FACSAL_L', 'FACSEC_1', 'FACSEC_2', 'FACSEC_3',\n",
      "       'FACSEC_4', 'FACSEC_L'],\n",
      "      dtype='object')\n"
     ]
    }
   ],
   "source": [
    "accuracy = accuracy_score(y_test, y_pred)\n",
    "print('Model accuracy:', accuracy)\n",
    "print('Optimal number of features :', rfe.n_features_)\n",
    "print('Best features :', selected_features)"
   ]
  },
  {
   "cell_type": "code",
   "execution_count": 15,
   "metadata": {},
   "outputs": [
    {
     "name": "stdout",
     "output_type": "stream",
     "text": [
      "      Feature  Coefficient  Absolute Coefficient\n",
      "67   FACIND_1     0.956469              0.956469\n",
      "87   FACSEC_1     0.911547              0.911547\n",
      "41  BACARN_51    -0.821758              0.821758\n",
      "44  BACARN_54     0.815368              0.815368\n",
      "24  VETSTAT_2     0.781789              0.781789\n",
      "..        ...          ...                   ...\n",
      "70   FACIND_4     0.031158              0.031158\n",
      "34  BACARN_12     0.023713              0.023713\n",
      "4     CTZUSIN    -0.020543              0.020543\n",
      "0         AGE    -0.019008              0.019008\n",
      "47  BACARN_60     0.018788              0.018788\n",
      "\n",
      "[92 rows x 3 columns]\n"
     ]
    }
   ],
   "source": [
    "coefficients = rfe.estimator_.coef_[0]\n",
    "\n",
    "# Map coefficients to the selected features\n",
    "feature_importance = pd.DataFrame({\n",
    "    'Feature': X.columns[rfe.support_],\n",
    "    'Coefficient': coefficients\n",
    "})\n",
    "\n",
    "# Display the feature importances sorted by absolute values of coefficients\n",
    "feature_importance['Absolute Coefficient'] = feature_importance['Coefficient'].abs()\n",
    "feature_importance = feature_importance.sort_values(by='Absolute Coefficient', ascending=False)\n",
    "print(feature_importance)"
   ]
  },
  {
   "cell_type": "code",
   "execution_count": 16,
   "metadata": {},
   "outputs": [],
   "source": [
    "feature_importance.to_csv('docs.csv', index = False)"
   ]
  },
  {
   "cell_type": "code",
   "execution_count": 17,
   "metadata": {},
   "outputs": [
    {
     "data": {
      "image/png": "[encoded data removed]",
      "text/plain": [
       "<Figure size 576x432 with 1 Axes>"
      ]
     },
     "metadata": {
      "needs_background": "light"
     },
     "output_type": "display_data"
    },
    {
     "name": "stdout",
     "output_type": "stream",
     "text": [
      "Classification Report:\n",
      "               precision    recall  f1-score   support\n",
      "\n",
      "       False       0.85      0.03      0.06       753\n",
      "        True       0.96      1.00      0.98     17770\n",
      "\n",
      "    accuracy                           0.96     18523\n",
      "   macro avg       0.90      0.51      0.52     18523\n",
      "weighted avg       0.96      0.96      0.94     18523\n",
      "\n"
     ]
    },
    {
     "data": {
      "image/png": "[encoded data removed]",
      "text/plain": [
       "<Figure size 576x432 with 1 Axes>"
      ]
     },
     "metadata": {
      "needs_background": "light"
     },
     "output_type": "display_data"
    }
   ],
   "source": [
    "from sklearn.metrics import confusion_matrix, classification_report, roc_curve, roc_auc_score\n",
    "import seaborn as sns\n",
    "import matplotlib.pyplot as plt\n",
    "\n",
    "# Confusion Matrix\n",
    "cm = confusion_matrix(y_test, y_pred)\n",
    "plt.figure(figsize=(8,6))\n",
    "sns.heatmap(cm, annot=True, fmt='d', cmap='Blues', cbar=False)\n",
    "plt.xlabel('Predicted')\n",
    "plt.ylabel('True')\n",
    "plt.title('Confusion Matrix')\n",
    "plt.show()\n",
    "\n",
    "# Classification Report\n",
    "report = classification_report(y_test, y_pred)\n",
    "print(\"Classification Report:\\n\", report)\n",
    "\n",
    "# ROC Curve and AUC\n",
    "if y.nunique() == 2:  # Checking if the target variable is binary\n",
    "    y_prob = rfe.predict_proba(X_test)[:, 1]  # probability estimates for the positive class\n",
    "    fpr, tpr, thresholds = roc_curve(y_test, y_prob)\n",
    "    auc_score = roc_auc_score(y_test, y_prob)\n",
    "\n",
    "    plt.figure(figsize=(8,6))\n",
    "    plt.plot(fpr, tpr, label=f'ROC curve (area = {auc_score:.2f})')\n",
    "    plt.plot([0, 1], [0, 1], 'k--')  # Dashed diagonal line\n",
    "    plt.xlabel('False Positive Rate')\n",
    "    plt.ylabel('True Positive Rate')\n",
    "    plt.title('ROC Curve')\n",
    "    plt.legend(loc=\"lower right\")\n",
    "    plt.show()\n",
    "else:\n",
    "    print(\"ROC and AUC are not applicable for multi-class targets.\")\n"
   ]
  },
  {
   "cell_type": "code",
   "execution_count": null,
   "metadata": {},
   "outputs": [],
   "source": []
  }
 ],
 "metadata": {
  "kernelspec": {
   "display_name": "Python 3",
   "language": "python",
   "name": "python3"
  },
  "language_info": {
   "codemirror_mode": {
    "name": "ipython",
    "version": 3
   },
   "file_extension": ".py",
   "mimetype": "text/x-python",
   "name": "python",
   "nbconvert_exporter": "python",
   "pygments_lexer": "ipython3",
   "version": "3.8.5"
  }
 },
 "nbformat": 4,
 "nbformat_minor": 4
}
